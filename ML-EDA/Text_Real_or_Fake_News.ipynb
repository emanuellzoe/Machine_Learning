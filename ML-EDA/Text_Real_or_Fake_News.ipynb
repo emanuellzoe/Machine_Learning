{
 "cells": [
  {
   "cell_type": "markdown",
   "metadata": {},
   "source": [
    "# EDA: Berita FAKE vs REAL "
   ]
  },
  {
   "cell_type": "markdown",
   "metadata": {},
   "source": [
    "Notebook ini adalah panduan lengkap untuk melakukan Data Profiling dan Analisis Data Eksplorasi (EDA) pada dataset berita `fake_or_real_news.csv`. Tujuannya adalah untuk memahami karakteristik data teks secara mendalam sebelum masuk ke tahap pemodelan.\n",
    "\n",
    "Link : https://www.kaggle.com/datasets/jillanisofttech/fake-or-real-news/data"
   ]
  },
  {
   "cell_type": "markdown",
   "metadata": {},
   "source": [
    "## 1. Data Acquisition"
   ]
  },
  {
   "cell_type": "markdown",
   "metadata": {},
   "source": [
    "### 1.1 Import Library"
   ]
  },
  {
   "cell_type": "code",
   "execution_count": null,
   "metadata": {},
   "outputs": [],
   "source": [
    "# Library untuk manipulasi data\n",
    "import pandas as pd\n",
    "import numpy as np\n",
    "\n",
    "# Library untuk visualisasi\n",
    "import seaborn as sns\n",
    "import matplotlib.pyplot as plt\n",
    "\n",
    "# Mengatur agar plot ditampilkan di dalam notebook\n",
    "%matplotlib inline\n",
    "\n",
    "print(\"Library siap digunakan!\")"
   ]
  },
  {
   "cell_type": "markdown",
   "metadata": {},
   "source": [
    "### 1.2 Memuat Dataset"
   ]
  },
  {
   "cell_type": "code",
   "execution_count": null,
   "metadata": {},
   "outputs": [],
   "source": [
    "# Membaca file CSV ke dalam DataFrame\n",
    "df = pd.read_csv('data/text_real_or_fake_news.csv')\n",
    "\n",
    "# Menampilkan 5 baris pertama data\n",
    "print(\"5 baris pertama dari dataset:\")\n",
    "df.head()"
   ]
  },
  {
   "cell_type": "markdown",
   "metadata": {},
   "source": [
    "## 2. Data Profiling / Exploratory Data Analysis (EDA)"
   ]
  },
  {
   "cell_type": "markdown",
   "metadata": {},
   "source": [
    "### 2.1 Informasi Dasar DataFrame"
   ]
  },
  {
   "cell_type": "code",
   "execution_count": null,
   "metadata": {},
   "outputs": [],
   "source": [
    "# Menampilkan informasi ringkas (tipe data, memori, dll.)\n",
    "print(\"Informasi Umum Dataset:\")\n",
    "df.info()\n",
    "\n",
    "print(\"\\nStatistik Deskriptif:\")\n",
    "\n",
    "# Memeriksa jumlah nilai yang hilang (missing values) per kolom\n",
    "print(\"Jumlah Nilai yang Hilang per Kolom:\")\n",
    "print(df.isnull().sum())"
   ]
  },
  {
   "cell_type": "markdown",
   "metadata": {},
   "source": [
    "### 2.2 Analisis Distribusi Label"
   ]
  },
  {
   "cell_type": "code",
   "execution_count": null,
   "metadata": {},
   "outputs": [],
   "source": [
    "# Visualisasi distribusi label\n",
    "plt.figure(figsize=(8, 6))\n",
    "sns.countplot(x='label', data=df, palette='viridis')\n",
    "plt.title('Distribusi Berita FAKE vs REAL', fontsize=16)\n",
    "plt.xlabel('Label', fontsize=12)\n",
    "plt.ylabel('Jumlah', fontsize=12)\n",
    "plt.show()\n",
    "\n",
    "# Menampilkan jumlah pastinya\n",
    "print(df['label'].value_counts())"
   ]
  },
  {
   "cell_type": "markdown",
   "metadata": {},
   "source": [
    "### 2.3 Analisis Karakteristik Teks"
   ]
  },
  {
   "cell_type": "code",
   "execution_count": null,
   "metadata": {},
   "outputs": [],
   "source": [
    "# Menghitung jumlah kata dalam setiap teks\n",
    "df['word_count'] = df['text'].apply(lambda x: len(str(x).split()))\n",
    "\n",
    "# Menghitung jumlah karakter dalam setiap teks\n",
    "df['char_count'] = df['text'].apply(lambda x: len(str(x)))\n",
    "\n",
    "# Menghitung panjang rata-rata kata\n",
    "def avg_word_length(text):\n",
    "    words = str(text).split()\n",
    "    if len(words) == 0:\n",
    "        return 0\n",
    "    return sum(len(word) for word in words) / len(words)\n",
    "\n",
    "df['avg_word_length'] = df['text'].apply(avg_word_length)\n",
    "\n",
    "print(\"Fitur baru berhasil ditambahkan (word_count, char_count, avg_word_length):\")\n",
    "df[['label', 'word_count', 'char_count', 'avg_word_length']].head()"
   ]
  },
  {
   "cell_type": "code",
   "execution_count": null,
   "metadata": {},
   "outputs": [],
   "source": [
    "# Mengatur ukuran plot\n",
    "plt.figure(figsize=(18, 12))\n",
    "\n",
    "# Plot 1: Distribusi Jumlah Kata\n",
    "plt.subplot(2, 2, 1)\n",
    "sns.histplot(data=df, x='word_count', hue='label', multiple='stack', bins=50)\n",
    "plt.title('Distribusi Jumlah Kata')\n",
    "\n",
    "# Plot 2: Distribusi Jumlah Karakter\n",
    "plt.subplot(2, 2, 2)\n",
    "sns.histplot(data=df, x='char_count', hue='label', multiple='stack', bins=50)\n",
    "plt.title('Distribusi Jumlah Karakter')\n",
    "\n",
    "# Plot 3: Boxplot Panjang Rata-rata Kata\n",
    "plt.subplot(2, 2, 3)\n",
    "sns.boxplot(data=df, x='label', y='avg_word_length')\n",
    "plt.title('Panjang Rata-rata Kata')\n",
    "\n",
    "plt.tight_layout()\n",
    "plt.show()"
   ]
  },
  {
   "cell_type": "markdown",
   "metadata": {},
   "source": [
    "### 2.4 Analisis N-grams (Kata yang Sering Muncul)"
   ]
  },
  {
   "cell_type": "code",
   "execution_count": null,
   "metadata": {},
   "outputs": [],
   "source": [
    "from sklearn.feature_extraction.text import CountVectorizer\n",
    "\n",
    "# Fungsi untuk membuat plot kata yang paling umum\n",
    "def plot_top_ngrams(corpus, title, n=20, ngram_range=(1,1)):\n",
    "    vec = CountVectorizer(stop_words='english', ngram_range=ngram_range).fit(corpus)\n",
    "    bag_of_words = vec.transform(corpus)\n",
    "    sum_words = bag_of_words.sum(axis=0)\n",
    "    words_freq = [(word, sum_words[0, idx]) for word, idx in vec.vocabulary_.items()]\n",
    "    words_freq = sorted(words_freq, key = lambda x: x[1], reverse=True)\n",
    "    \n",
    "    top_words_df = pd.DataFrame(words_freq[:n], columns=['Kata/Frasa', 'Frekuensi'])\n",
    "    \n",
    "    plt.figure(figsize=(12, 8))\n",
    "    sns.barplot(x='Frekuensi', y='Kata/Frasa', data=top_words_df, palette='plasma')\n",
    "    plt.title(title, fontsize=16)\n",
    "    plt.show()\n",
    "\n",
    "# Pisahkan teks berita FAKE dan REAL\n",
    "fake_news_text = df[df['label'] == 'FAKE']['text']\n",
    "real_news_text = df[df['label'] == 'REAL']['text']\n",
    "\n",
    "# Plot 20 kata tunggal (unigram) yang paling umum di berita FAKE\n",
    "plot_top_ngrams(fake_news_text, 'Top 20 Kata Tunggal di Berita FAKE', ngram_range=(1,1))\n",
    "\n",
    "# Plot 20 kata tunggal (unigram) yang paling umum di berita REAL\n",
    "plot_top_ngrams(real_news_text, 'Top 20 Kata Tunggal di Berita REAL', ngram_range=(1,1))"
   ]
  },
  {
   "cell_type": "markdown",
   "metadata": {},
   "source": [
    "## Kesimpulan Analisis\n",
    "\n",
    "Dari Data Profiling yang mendalam ini, kita mendapatkan pemahaman yang lebih baik tentang dataset. Kita tidak hanya tahu bahwa datanya seimbang, tetapi juga menemukan fitur-fitur potensial seperti:\n",
    "1.  **Panjang Teks**: Berita REAL cenderung lebih panjang.\n",
    "2.  **Kata Kunci (N-grams)**: Ada perbedaan kosakata yang signifikan antara kedua jenis berita.\n",
    "\n",
    "Informasi ini sangat berharga dan akan membantu model *machine learning* untuk belajar membedakan kedua kelas dengan lebih baik. Anda sekarang siap untuk melanjutkan ke tahap **Data Preprocessing** dan **Modeling**."
   ]
  }
 ],
 "metadata": {
  "kernelspec": {
   "display_name": "Python 3",
   "language": "python",
   "name": "python3"
  },
  "language_info": {
   "codemirror_mode": {
    "name": "ipython",
    "version": 3
   },
   "file_extension": ".py",
   "mimetype": "text/x-python",
   "name": "python",
   "nbconvert_exporter": "python",
   "pygments_lexer": "ipython3",
   "version": "3.11.0"
  }
 },
 "nbformat": 4,
 "nbformat_minor": 4
}
