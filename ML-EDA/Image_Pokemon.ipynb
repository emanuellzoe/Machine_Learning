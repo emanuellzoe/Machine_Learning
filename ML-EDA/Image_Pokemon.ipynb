{
 "cells": [
  {
   "cell_type": "markdown",
   "metadata": {},
   "source": [
    "# EDA: Dataset Kartu Pokémon Asli vs. Palsu"
   ]
  },
  {
   "cell_type": "markdown",
   "metadata": {},
   "source": [
    "Notebook ini bertujuan untuk melakukan Analisis Data Eksplorasi (EDA) pada dataset gambar kartu Pokémon untuk memahami karakteristik yang membedakan kartu asli (real) dan palsu (fake).\n",
    "\n",
    "Link : https://www.kaggle.com/datasets/ongshujian/real-and-fake-pokemon-cards/data"
   ]
  },
  {
   "cell_type": "markdown",
   "metadata": {},
   "source": [
    "## 1. Data Acquisition"
   ]
  },
  {
   "cell_type": "markdown",
   "metadata": {},
   "source": [
    "### 1.1 Penjelasan Library yang Digunakan\n",
    "- **os & glob**: Untuk berinteraksi dengan sistem file, yaitu membaca struktur folder dan menemukan path semua file gambar.\n",
    "- **pandas**: Untuk membuat DataFrame yang berisi path file dan labelnya (real/fake).\n",
    "- **matplotlib & seaborn**: Untuk visualisasi data, seperti menampilkan contoh gambar dan plot distribusi.\n",
    "- **PIL (Pillow)**: Pustaka untuk membuka dan memanipulasi file gambar."
   ]
  },
  {
   "cell_type": "code",
   "execution_count": null,
   "metadata": {},
   "outputs": [],
   "source": [
    "# Library untuk sistem f\n",
    "import os\n",
    "import glob\n",
    "\n",
    "# Library untuk manipulasi data dan visualisasi\n",
    "import pandas as pd\n",
    "import numpy as np\n",
    "import matplotlib.pyplot as plt\n",
    "import seaborn as sns\n",
    "\n",
    "# Library untuk memproses gambar\n",
    "from PIL import Image\n",
    "\n",
    "%matplotlib inline\n",
    "print(\"Library siap digunakan!\")"
   ]
  },
  {
   "cell_type": "markdown",
   "metadata": {},
   "source": [
    "### 1.2 Memuat Path Gambar dan Label\n",
    "Kita hanya akan fokus pada data training untuk EDA, sesuai dengan praktik terbaik dalam machine learning. Data `test` akan kita simpan untuk evaluasi model nanti. Pastikan Anda telah mengekstrak file zip dari Kaggle dan menempatkan folder `pokemon-cards-dataset` di dalam folder `data`."
   ]
  },
  {
   "cell_type": "code",
   "execution_count": null,
   "metadata": {},
   "outputs": [],
   "source": [
    "# Tentukan path utama ke folder data training dan file label\n",
    "train_img_path = 'data/train/'\n",
    "train_labels_path = 'data/train_labels.csv'\n",
    "\n",
    "# 1. Muat file CSV yang berisi label\n",
    "labels_df = pd.read_csv(train_labels_path)\n",
    "\n",
    "# ====================================================================\n",
    "# BAGIAN YANG DIPERBAIKI: Hanya mengubah ID menjadi string, tanpa 'zfill'\n",
    "# ====================================================================\n",
    "labels_df['id'] = labels_df['id'].astype(str)\n",
    "\n",
    "# 3. Buat kolom 'filepath' yang berisi path lengkap ke setiap gambar\n",
    "labels_df['filepath'] = labels_df['id'].apply(lambda x: os.path.join(train_img_path, x + '.jpg'))\n",
    "\n",
    "# 4. Ganti label numerik (0, 1) menjadi teks ('real', 'fake')\n",
    "label_map = {0: 'real', 1: 'fake'}\n",
    "labels_df['label'] = labels_df['label'].map(label_map)\n",
    "\n",
    "# 5. Buat DataFrame akhir yang akan kita gunakan untuk analisis\n",
    "df = labels_df[['filepath', 'label']].copy()\n",
    "\n",
    "# Acak urutan data dalam DataFrame\n",
    "df = df.sample(frac=1, random_state=42).reset_index(drop=True)\n",
    "\n",
    "print(\"DataFrame berhasil dibuat ulang dengan path yang benar.\")\n",
    "df.head()"
   ]
  },
  {
   "cell_type": "code",
   "execution_count": null,
   "metadata": {},
   "outputs": [],
   "source": []
  },
  {
   "cell_type": "markdown",
   "metadata": {},
   "source": [
    "## 2. Data Profiling / Exploratory Data Analysis (EDA)"
   ]
  },
  {
   "cell_type": "markdown",
   "metadata": {},
   "source": [
    "### 2.1 Analisis Distribusi Kelas (Asli vs. Palsu)\n",
    "Melihat perbandingan jumlah gambar antara kartu asli dan palsu."
   ]
  },
  {
   "cell_type": "code",
   "execution_count": null,
   "metadata": {},
   "outputs": [],
   "source": [
    "print(\"Jumlah gambar per label:\")\n",
    "print(df['label'].value_counts())\n",
    "\n",
    "# Visualisasi distribusi kelas\n",
    "plt.figure(figsize=(8, 6))\n",
    "sns.countplot(x='label', data=df, palette='pastel')\n",
    "plt.title('Distribusi Kartu Asli vs. Palsu', fontsize=16)\n",
    "plt.xlabel('Label', fontsize=12)\n",
    "plt.ylabel('Jumlah Gambar', fontsize=12)\n",
    "plt.show()"
   ]
  },
  {
   "cell_type": "markdown",
   "metadata": {},
   "source": [
    "**Interpretasi**: Dataset ini memiliki sedikit ketidakseimbangan, di mana jumlah kartu palsu (fake) lebih banyak daripada kartu asli (real). Ini perlu diperhatikan saat evaluasi model nanti."
   ]
  },
  {
   "cell_type": "markdown",
   "metadata": {},
   "source": [
    "### 2.2 Visualisasi Contoh Gambar\n",
    "Melihat perbedaan visual antara kartu asli dan palsu."
   ]
  },
  {
   "cell_type": "code",
   "execution_count": null,
   "metadata": {},
   "outputs": [],
   "source": [
    "# Fungsi untuk menampilkan contoh gambar\n",
    "def tampilkan_contoh_gambar(label_name, jumlah=5):\n",
    "    plt.figure(figsize=(20, 6))\n",
    "    \n",
    "    # Mengambil sampel acak berdasarkan label yang benar dari DataFrame\n",
    "    contoh_files = df[df['label'] == label_name].sample(jumlah, random_state=1)['filepath'].values\n",
    "    \n",
    "    plt.suptitle(f'Contoh Kartu Pokémon {label_name.upper()}', fontsize=20)\n",
    "    \n",
    "    for i, file_path in enumerate(contoh_files):\n",
    "        ax = plt.subplot(1, jumlah, i + 1)\n",
    "        try:\n",
    "            img = Image.open(file_path)\n",
    "            plt.imshow(img)\n",
    "        except FileNotFoundError:\n",
    "            # Menampilkan pesan error jika file tidak ditemukan\n",
    "            print(f\"File tidak ditemukan di: {file_path}\")\n",
    "            ax.text(0.5, 0.5, 'File Not Found', ha='center', va='center')\n",
    "        \n",
    "        plt.axis('off')\n",
    "    \n",
    "    plt.show()\n",
    "\n",
    "# =======================================================\n",
    "# KODE PERBAIKAN: Gunakan 'real' dan 'fake' (huruf kecil)\n",
    "# =======================================================\n",
    "\n",
    "# Tampilkan contoh untuk kartu ASLI\n",
    "tampilkan_contoh_gambar('real')\n",
    "\n",
    "# Tampilkan contoh untuk kartu PALSU\n",
    "tampilkan_contoh_gambar('fake')"
   ]
  },
  {
   "cell_type": "markdown",
   "metadata": {},
   "source": [
    "**Interpretasi**: Secara visual, kita mungkin bisa melihat perbedaan dalam saturasi warna, kualitas cetak, atau jenis font antara kartu asli dan palsu."
   ]
  },
  {
   "cell_type": "markdown",
   "metadata": {},
   "source": [
    "### 2.3 Analisis Dimensi (Ukuran) Gambar\n",
    "Memeriksa apakah semua gambar di dataset kita memiliki ukuran yang sama, karena ini penting untuk input model."
   ]
  },
  {
   "cell_type": "code",
   "execution_count": null,
   "metadata": {},
   "outputs": [],
   "source": [
    "# Fungsi untuk mendapatkan dimensi (lebar, tinggi) dari sebuah gambar\n",
    "def get_dimensi(file_path):\n",
    "    try:\n",
    "        with Image.open(file_path) as img:\n",
    "            return img.size # Mengembalikan tuple (lebar, tinggi)\n",
    "    except:\n",
    "        return (0, 0)\n",
    "\n",
    "# Terapkan fungsi ke setiap baris dan buat kolom baru\n",
    "df['dimensions'] = df['filepath'].apply(get_dimensi)\n",
    "\n",
    "print(\"Ukuran Gambar yang Paling Umum:\")\n",
    "print(df['dimensions'].value_counts())"
   ]
  },
  {
   "cell_type": "markdown",
   "metadata": {},
   "source": [
    "**Interpretasi**: Hasil di atas menunjukkan bahwa sebagian besar gambar memiliki ukuran **(734, 1024)**. Namun, ada juga ukuran lain. Ini mengkonfirmasi bahwa kita perlu melakukan **resizing** (penyeragaman ukuran) pada tahap preprocessing."
   ]
  },
  {
   "cell_type": "markdown",
   "metadata": {},
   "source": [
    "## 3. Kesimpulan & Langkah Selanjutnya\n",
    "\n",
    "Dari analisis ini, kita mendapatkan beberapa poin penting:\n",
    "1.  **Struktur Data**: Kita berhasil memetakan dataset gambar ke dalam DataFrame yang terstruktur.\n",
    "2.  **Distribusi Kelas**: Terdapat sedikit ketidakseimbangan data yang perlu diperhatikan.\n",
    "3.  **Karakteristik Gambar**: Ada perbedaan visual yang bisa diamati, dan yang terpenting, ukuran gambar tidak seragam.\n",
    "\n",
    "**Langkah Selanjutnya:**\n",
    "1.  **Data Preprocessing**: Menyeragamkan ukuran semua gambar (misal: 224x224 piksel), melakukan normalisasi nilai piksel, dan mengubah gambar menjadi format array (tensor).\n",
    "2.  **Modeling**: Membangun, melatih, dan mengevaluasi model *Convolutional Neural Network* (CNN) untuk melakukan klasifikasi biner (real vs fake)."
   ]
  }
 ],
 "metadata": {
  "kernelspec": {
   "display_name": "Python 3",
   "language": "python",
   "name": "python3"
  },
  "language_info": {
   "codemirror_mode": {
    "name": "ipython",
    "version": 3
   },
   "file_extension": ".py",
   "mimetype": "text/x-python",
   "name": "python",
   "nbconvert_exporter": "python",
   "pygments_lexer": "ipython3",
   "version": "3.11.0"
  }
 },
 "nbformat": 4,
 "nbformat_minor": 4
}
