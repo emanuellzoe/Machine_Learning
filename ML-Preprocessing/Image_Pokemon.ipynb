{
 "cells": [
  {
   "cell_type": "markdown",
   "metadata": {},
   "source": [
    "# 🧠 EDA dan Preprocessing: Dataset Kartu Pokémon Asli vs. Palsu"
   ]
  },
  {
   "cell_type": "markdown",
   "metadata": {},
   "source": [
    "Notebook ini bertujuan untuk melakukan Analisis Data Eksplorasi (EDA) dan Preprocessing pada dataset gambar kartu Pokémon untuk memahami karakteristik yang membedakan kartu asli (real) dan palsu (fake) sebelum tahap modeling.\n",
    "\n",
    "📎 Link Dataset: https://www.kaggle.com/datasets/ongshujian/real-and-fake-pokemon-cards/data"
   ]
  },
  {
   "cell_type": "markdown",
   "metadata": {},
   "source": [
    "## 1. Data Acquisition & Library"
   ]
  },
  {
   "cell_type": "code",
   "execution_count": null,
   "metadata": {},
   "outputs": [],
   "source": [
    "import os\n",
    "import pandas as pd\n",
    "import numpy as np\n",
    "import matplotlib.pyplot as plt\n",
    "import seaborn as sns\n",
    "from PIL import Image\n",
    "import cv2\n",
    "from tqdm import tqdm\n",
    "from sklearn.model_selection import train_test_split\n",
    "from sklearn.preprocessing import LabelEncoder\n",
    "\n",
    "%matplotlib inline\n",
    "tqdm.pandas()\n",
    "print('✅ Library siap digunakan!')"
   ]
  },
  {
   "cell_type": "markdown",
   "metadata": {},
   "source": [
    "## 2. Memuat Data dan Label"
   ]
  },
  {
   "cell_type": "code",
   "execution_count": null,
   "metadata": {},
   "outputs": [],
   "source": [
    "train_img_path = 'data/train/'\n",
    "train_labels_path = 'data/train_labels.csv'\n",
    "\n",
    "labels_df = pd.read_csv(train_labels_path)\n",
    "labels_df['id'] = labels_df['id'].astype(str)\n",
    "labels_df['filepath'] = labels_df['id'].apply(lambda x: os.path.join(train_img_path, x + '.jpg'))\n",
    "labels_df['label'] = labels_df['label'].map({0: 'real', 1: 'fake'})\n",
    "df = labels_df[['filepath','label']].copy().sample(frac=1, random_state=42).reset_index(drop=True)\n",
    "print('DataFrame berhasil dimuat.')\n",
    "df.head()"
   ]
  },
  {
   "cell_type": "markdown",
   "metadata": {},
   "source": [
    "## 3. EDA: Distribusi Label dan Contoh Gambar"
   ]
  },
  {
   "cell_type": "code",
   "execution_count": null,
   "metadata": {},
   "outputs": [],
   "source": [
    "plt.figure(figsize=(8, 5))\n",
    "sns.countplot(x='label', data=df, palette='pastel')\n",
    "plt.title('Distribusi Label Kartu Pokémon')\n",
    "plt.show()\n",
    "\n",
    "def tampilkan_contoh(label_name, jumlah=5):\n",
    "    plt.figure(figsize=(18,5))\n",
    "    sample_paths = df[df['label']==label_name]['filepath'].sample(jumlah, random_state=1).values\n",
    "    for i, fp in enumerate(sample_paths):\n",
    "        plt.subplot(1, jumlah, i+1)\n",
    "        plt.imshow(Image.open(fp))\n",
    "        plt.axis('off')\n",
    "    plt.suptitle(f'Contoh Kartu {label_name.upper()}')\n",
    "    plt.show()\n",
    "\n",
    "tampilkan_contoh('real')\n",
    "tampilkan_contoh('fake')"
   ]
  },
  {
   "cell_type": "markdown",
   "metadata": {},
   "source": [
    "## 4. Feature Extraction: Color Histogram"
   ]
  },
  {
   "cell_type": "code",
   "execution_count": null,
   "metadata": {},
   "outputs": [],
   "source": [
    "def extract_color_histogram(image_path, bins=(8, 8, 8)):\n",
    "    image = cv2.imread(image_path)\n",
    "    if image is None:\n",
    "        return None\n",
    "    image = cv2.cvtColor(image, cv2.COLOR_BGR2RGB)\n",
    "    hist = cv2.calcHist([image], [0, 1, 2], None, bins, [0,256,0,256,0,256])\n",
    "    cv2.normalize(hist, hist)\n",
    "    return hist.flatten()\n",
    "\n",
    "df['hist_features'] = df['filepath'].progress_apply(extract_color_histogram)\n",
    "df = df.dropna(subset=['hist_features']).reset_index(drop=True)\n",
    "print('Ekstraksi fitur Color Histogram selesai.')"
   ]
  },
  {
   "cell_type": "markdown",
   "metadata": {},
   "source": [
    "### Visualisasi Histogram Warna Kartu Asli vs. Palsu"
   ]
  },
  {
   "cell_type": "code",
   "execution_count": null,
   "metadata": {},
   "outputs": [],
   "source": [
    "def show_histogram_comparison(real_path, fake_path):\n",
    "    plt.figure(figsize=(14,6))\n",
    "    for idx, (path, title) in enumerate(zip([real_path, fake_path], ['REAL','FAKE'])):\n",
    "        img = cv2.imread(path)\n",
    "        img_rgb = cv2.cvtColor(img, cv2.COLOR_BGR2RGB)\n",
    "        plt.subplot(2,3,3*idx+1)\n",
    "        plt.imshow(img_rgb)\n",
    "        plt.title(f'Gambar {title}')\n",
    "        plt.axis('off')\n",
    "        plt.subplot(2,3,3*idx+2)\n",
    "        for i,col in enumerate(('r','g','b')):\n",
    "            hist = cv2.calcHist([img_rgb],[i],None,[256],[0,256])\n",
    "            plt.plot(hist,color=col)\n",
    "        plt.title(f'Histogram {title}')\n",
    "        plt.xlim([0,256])\n",
    "    plt.tight_layout()\n",
    "    plt.show()\n",
    "\n",
    "real_path = df[df['label']=='real']['filepath'].iloc[0]\n",
    "fake_path = df[df['label']=='fake']['filepath'].iloc[0]\n",
    "show_histogram_comparison(real_path, fake_path)"
   ]
  },
  {
   "cell_type": "markdown",
   "metadata": {},
   "source": [
    "## 5. Feature Extraction Tambahan: Edge dan Corner Detection"
   ]
  },
  {
   "cell_type": "code",
   "execution_count": null,
   "metadata": {},
   "outputs": [],
   "source": [
    "def extract_edge_corner_features(image_path):\n",
    "    img = cv2.imread(image_path)\n",
    "    gray = cv2.cvtColor(img, cv2.COLOR_BGR2GRAY)\n",
    "    edges = cv2.Canny(gray, 100, 200)\n",
    "    edge_density = np.sum(edges>0)/edges.size\n",
    "    corners = cv2.cornerHarris(np.float32(gray),2,3,0.04)\n",
    "    corner_density = np.sum(corners>0.01*corners.max())/corners.size\n",
    "    return edge_density, corner_density\n",
    "\n",
    "df[['edge_density','corner_density']] = pd.DataFrame(df['filepath'].progress_apply(extract_edge_corner_features).tolist())\n",
    "print('Ekstraksi fitur Edge & Corner selesai.')"
   ]
  },
  {
   "cell_type": "markdown",
   "metadata": {},
   "source": [
    "### Visualisasi Contoh Edge dan Corner Detection"
   ]
  },
  {
   "cell_type": "code",
   "execution_count": null,
   "metadata": {},
   "outputs": [],
   "source": [
    "def visualize_edges_corners(path):\n",
    "    img = cv2.imread(path)\n",
    "    gray = cv2.cvtColor(img, cv2.COLOR_BGR2GRAY)\n",
    "    edges = cv2.Canny(gray,100,200)\n",
    "    corners = cv2.cornerHarris(np.float32(gray),2,3,0.04)\n",
    "    img_corners = img.copy()\n",
    "    img_corners[corners>0.01*corners.max()] = [255,0,0]\n",
    "\n",
    "    plt.figure(figsize=(12,5))\n",
    "    plt.subplot(1,3,1)\n",
    "    plt.imshow(cv2.cvtColor(img, cv2.COLOR_BGR2RGB))\n",
    "    plt.title('Asli')\n",
    "    plt.axis('off')\n",
    "    plt.subplot(1,3,2)\n",
    "    plt.imshow(edges, cmap='gray')\n",
    "    plt.title('Edges (Canny)')\n",
    "    plt.axis('off')\n",
    "    plt.subplot(1,3,3)\n",
    "    plt.imshow(cv2.cvtColor(img_corners, cv2.COLOR_BGR2RGB))\n",
    "    plt.title('Corners (Harris)')\n",
    "    plt.axis('off')\n",
    "    plt.show()\n",
    "\n",
    "print('--- Kartu REAL ---')\n",
    "visualize_edges_corners(real_path)\n",
    "print('\\n--- Kartu FAKE ---')\n",
    "visualize_edges_corners(fake_path)"
   ]
  },
  {
   "cell_type": "markdown",
   "metadata": {},
   "source": [
    "## 6. Gabungkan Semua Fitur dan Encode Label"
   ]
  },
  {
   "cell_type": "code",
   "execution_count": null,
   "metadata": {},
   "outputs": [],
   "source": [
    "X_hist = np.array(df['hist_features'].tolist())\n",
    "extra_features = df[['edge_density','corner_density']].values\n",
    "X_combined = np.hstack([X_hist, extra_features])\n",
    "\n",
    "le = LabelEncoder()\n",
    "y = le.fit_transform(df['label'])\n",
    "print(f'✅ Fitur gabungan siap: {X_combined.shape}')"
   ]
  },
  {
   "cell_type": "markdown",
   "metadata": {},
   "source": [
    "## 7. Train-Test Split dan Simpan Data Siap Modeling"
   ]
  },
  {
   "cell_type": "code",
   "execution_count": null,
   "metadata": {},
   "outputs": [],
   "source": [
    "X_train, X_test, y_train, y_test = train_test_split(X_combined, y, test_size=0.2, random_state=42, stratify=y)\n",
    "print(f'Train: {X_train.shape}, Test: {X_test.shape}')\n",
    "\n",
    "np.savez('pokemon_features_ready.npz', X_train=X_train, X_test=X_test, y_train=y_train, y_test=y_test)\n",
    "print('💾 Data fitur siap dan disimpan sebagai pokemon_features_ready.npz')"
   ]
  }
 ],
 "metadata": {
  "kernelspec": {
   "display_name": "Python 3",
   "language": "python",
   "name": "python3"
  },
  "language_info": {
   "name": "python",
   "version": "3.10"
  }
 },
 "nbformat": 4,
 "nbformat_minor": 4
}
